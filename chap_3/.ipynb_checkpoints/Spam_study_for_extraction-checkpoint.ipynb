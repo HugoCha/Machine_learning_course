{
 "cells": [
  {
   "cell_type": "code",
   "execution_count": 1,
   "metadata": {},
   "outputs": [],
   "source": [
    "import os, sys\n",
    "import matplotlib.pyplot as plt\n",
    "import seaborn as sns\n",
    "import pandas as pd\n",
    "import re\n",
    "import numpy as np"
   ]
  },
  {
   "cell_type": "code",
   "execution_count": 2,
   "metadata": {},
   "outputs": [],
   "source": [
    "datasets_folder = \"spam_datasets\""
   ]
  },
  {
   "cell_type": "code",
   "execution_count": 28,
   "metadata": {},
   "outputs": [],
   "source": [
    "def split_spam_ham(all_folders):\n",
    "    spam_folders = list(filter((lambda x: spam_ham_string(x, \"spam\")), all_folders))\n",
    "    ham_folders = list(filter((lambda x: spam_ham_string(x, \"ham\")), all_folders))\n",
    "    return ([spam_folders, ham_folders])"
   ]
  },
  {
   "cell_type": "code",
   "execution_count": 26,
   "metadata": {},
   "outputs": [],
   "source": [
    "def spam_ham_string(x, spam_or_ham):\n",
    "    if (spam_or_ham != \"spam\" and spam_or_ham!=\"ham\"):\n",
    "        print(\"Error in input string\")\n",
    "        return False\n",
    "    if spam_or_ham in x:\n",
    "        return True\n",
    "    return False"
   ]
  },
  {
   "cell_type": "code",
   "execution_count": 41,
   "metadata": {},
   "outputs": [],
   "source": [
    "def extract_spam_ham_name(datasets_folder):\n",
    "    current_folder_path = os.path.abspath(os.getcwd()) + \"/\"\n",
    "    dataset_path = current_folder_path + datasets_folder + \"/\"\n",
    "    all_folders = os.listdir(dataset_path)\n",
    "    \n",
    "    spam_folders, ham_folders = split_spam_ham(all_folders)\n",
    "    \n",
    "    spam_folders_path = [dataset_path + folder + \"/\" for folder in spam_folders]\n",
    "    ham_folders_path = [dataset_path + folder + \"/\" for folder in ham_folders]\n",
    "    \n",
    "    return [spam_folders_path, ham_folders_path]"
   ]
  },
  {
   "cell_type": "code",
   "execution_count": 50,
   "metadata": {},
   "outputs": [],
   "source": [
    "spam_folders_path, ham_folders_path = extract_spam_ham_name(datasets_folder)"
   ]
  },
  {
   "cell_type": "code",
   "execution_count": 53,
   "metadata": {},
   "outputs": [],
   "source": [
    "def extract_txt(filepath):\n",
    "    f = open(filepath, \"r\", encoding='utf8')\n",
    "    text = f.read()\n",
    "    return(text)"
   ]
  },
  {
   "cell_type": "code",
   "execution_count": 65,
   "metadata": {},
   "outputs": [],
   "source": [
    "def extract_data_from_file(spam_folders_path, ham_folders_path):\n",
    "    for folder_path in spam_folders_path:\n",
    "        under_path = folder_path + os.listdir(folder_path)[0] + \"/\"\n",
    "        file_list = os.listdir(under_path)\n",
    "        for file in file_list:\n",
    "            filepath = under_path + file\n",
    "            text = extract_txt(filepath)\n",
    "            #print(line.split(\"\\s\")) #\\s means any space, tab, newline and return\n",
    "            return text, True\n",
    "            #spam_dataset = pd.read_csv(filepath, delimiter=\"\\t\", header=None, engine=\"python\")#sep=\" \","
   ]
  },
  {
   "cell_type": "code",
   "execution_count": 66,
   "metadata": {},
   "outputs": [],
   "source": [
    "text, stop = extract_data_from_file(spam_folders_path, ham_folders_path)"
   ]
  },
  {
   "cell_type": "code",
   "execution_count": 9,
   "metadata": {},
   "outputs": [
    {
     "data": {
      "text/plain": [
       "'Received: from pdc.clarkgraphicsinc.com (nrm242245.columbus.rr.com [204.210.242.245])\\n\\tby linux.midrange.com (8.11.6/8.11.6) with ESMTP id g6LAAT426917\\n\\tfor <lynn.dietz@midrange.com>; Sun, 21 Jul 2002 05:10:29 -0500\\nMessage-Id: <200207211010.g6LAAT426917@linux.midrange.com>\\nReceived: from 210.154.77.242 (mx.daisetsu.co.jp [210.154.77.242]) by pdc.clarkgraphicsinc.com with SMTP (Microsoft Exchange Internet Mail Service Version 5.5.2653.13)\\n\\tid 31KWK5NW; Sun, 21 Jul 2002 06:19:21 -0400\\nFrom: mike0123896667196@yahoo.com\\nTo: dmscontract@aol.com\\nDate: Sun, 21 Jul 2002 03:07:14 -0700\\nSubject: Mortgage Information For You!........\\nX-Mailer: Microsoft Outlook Express 6.00.2600.0000\\nMIME-Version: 1.0\\nX-Precedence-Ref: 123\\nContent-Type: text/html; charset=us-ascii\\nContent-Transfer-Encoding: 7bit\\nX-Status: \\nX-Keywords: \\n\\n<HTML><FONT  SIZE=2 PTSIZE=10 FAMILY=\"SANSSERIF\" FACE=\"Arial\" LANG=\"0\">HAS YOUR MORTGAGE SEARCH GOT YOU DOWN?<BR>\\n<BR>\\nWin a $30,000 mortgage just for trying to get your mortgage rates down, and a little cash in your pocket!!<BR>\\nknow who is telling you the truth! We can solve all your problems.<BR>\\n<BR>\\nVisit our site today and in two minutes you can have us searching thousands of <BR>\\nprograms and lenders for you. Get the truth, get the facts, get your options <BR>\\nall in one shot. It\\'s absolutely FREE, and you can be done in only two minutes, <BR>\\nso <A HREF=\"http://www.zonehosts.net/yourlocallenders/index.html\">Click Right NOW</A> and put your worries behind you!<BR>\\n<BR>\\n</FONT></HTML>\\n\\n [247(^(PO1:KJ)_8J7BJK]\\n\\n\\n'"
      ]
     },
     "execution_count": 9,
     "metadata": {},
     "output_type": "execute_result"
    }
   ],
   "source": [
    "text"
   ]
  },
  {
   "cell_type": "code",
   "execution_count": 74,
   "metadata": {},
   "outputs": [],
   "source": [
    "separator_pattern = re.compile(r\"\\n\\n\")\n",
    "\n",
    "received_pattern = re.compile(\"^Received:.*\\n\\t.*\\n\\t.*\\n|^Received:.*\\n\\t.*\\n|^Received:.*\\n\",\n",
    "                              flags=re.M|re.X)\n",
    "messageId_pattern = re.compile(\"^Message-ID:.*\\n\",\n",
    "                              flags=re.M|re.X)\n",
    "returnpath_pattern = re.compile(\"^Return-Path:.*\\n\",\n",
    "                              flags=re.M|re.X)\n",
    "from_pattern = re.compile(\"^From[:\\s].*\\n\",\n",
    "                         flags=re.M|re.X)\n",
    "deliver_pattern = re.compile(\"^Delivered-To:.*\\n\", \n",
    "                            flags=re.M|re.X)\n",
    "subject_pattern = re.compile(\"^Subject:.*\\n\", \n",
    "                            flags=re.M|re.X)\n",
    "date_pattern = re.compile(\"^Date:.*\\n\", \n",
    "                            flags=re.M|re.X)\n",
    "content_type_pattern = re.compile(\"^Content-Type:.*\\n\", \n",
    "                            flags=re.M|re.X)\n",
    "content_transfer_pattern = re.compile(\"^Content-Transfer-Encoding:.*\\n\", \n",
    "                            flags=re.M|re.X)\n",
    "content_pattern = re.compile(\"^Content-.*:.*\\n\",\n",
    "                            flags=re.M|re.X)\n",
    "mime_pattern = re.compile(\"^MIME-Version:.*\\n\", \n",
    "                            flags=re.M|re.X)\n",
    "bcc_pattern = re.compile(\"^Bcc:.*\\n\", \n",
    "                            flags=re.M|re.X)\n",
    "importance_pattern = re.compile(\"^Importance:.*\\n\", \n",
    "                            flags=re.M|re.X)\n",
    "to_pattern = re.compile(\"^To:.*\\n\", \n",
    "                            flags=re.M|re.X)\n",
    "xmailer_pattern = re.compile(\"^X-Mailer:.*\\n\", \n",
    "                            flags=re.M|re.X)\n",
    "xpriority_pattern = re.compile(\"^X-Priority:.*\\n\", \n",
    "                            flags=re.M|re.X)\n",
    "x_spam_pattern = re.compile(\"^X-Spam:.*\\n\",\n",
    "                           flags=re.M|re.X)\n",
    "x_pattern = re.compile(\"^X-.*:.*\\n\", \n",
    "                            flags=re.M|re.X)\n",
    "replyto_pattern = re.compile(\"^Reply-To:.*\\n\", \n",
    "                            flags=re.M|re.X)\n",
    "list_pattern = re.compile(\"^List-.*:.*\\n\", \n",
    "                            flags=re.M|re.X)\n",
    "errors_pattern = re.compile(\"^Errors:.*\\n\", \n",
    "                            flags=re.M|re.X)\n",
    "hyphen_to_pattern = re.compile(\"^.*-To:.*\\n\", \n",
    "                            flags=re.M|re.X)\n",
    "\n",
    "heading_pattern = [\n",
    "    received_pattern, \n",
    "    messageId_pattern,\n",
    "    returnpath_pattern,\n",
    "    from_pattern,\n",
    "    deliver_pattern,\n",
    "    subject_pattern,\n",
    "    date_pattern,\n",
    "    content_type_pattern,\n",
    "    content_transfer_pattern,\n",
    "    mime_pattern,\n",
    "    bcc_pattern,\n",
    "    importance_pattern,\n",
    "    to_pattern,\n",
    "    xmailer_pattern,\n",
    "    xpriority_pattern,\n",
    "    x_spam_pattern,\n",
    "    x_pattern,\n",
    "    replyto_pattern,\n",
    "    list_pattern,\n",
    "    errors_pattern,\n",
    "    hyphen_to_pattern,\n",
    "    ]"
   ]
  },
  {
   "cell_type": "code",
   "execution_count": 20,
   "metadata": {},
   "outputs": [
    {
     "data": {
      "text/plain": [
       "'From-To: edzeddzd'"
      ]
     },
     "execution_count": 20,
     "metadata": {},
     "output_type": "execute_result"
    }
   ],
   "source": [
    "\n",
    "string = \"From-To: edzeddzd\"\n",
    "string1= \"From defer\"\n",
    "hyphen_to_pattern.search(string).group()"
   ]
  },
  {
   "cell_type": "code",
   "execution_count": 75,
   "metadata": {},
   "outputs": [],
   "source": [
    "def separate_header_content(raw_text):\n",
    "    mail = separator_pattern.split(raw_text, maxsplit=1)\n",
    "    heading = mail[0]\n",
    "    content = mail[1]\n",
    "    header_in_content = False\n",
    "    while(content != \"\" and header_in_content):\n",
    "        header_in_content = False\n",
    "        for pattern in heading_pattern:\n",
    "            if pattern.match(content) != None:\n",
    "                mail = separator_pattern.split(content, maxsplit=1)\n",
    "                header_in_content = True\n",
    "                content = mail[1]\n",
    "                heading = heading + mail[0]\n",
    "    return (heading, content)\n",
    "            "
   ]
  },
  {
   "cell_type": "code",
   "execution_count": 76,
   "metadata": {},
   "outputs": [],
   "source": [
    "heading, content = separate_header_content(text)"
   ]
  },
  {
   "cell_type": "code",
   "execution_count": 211,
   "metadata": {
    "scrolled": true
   },
   "outputs": [
    {
     "data": {
      "text/plain": [
       "'Received: from pdc.clarkgraphicsinc.com (nrm242245.columbus.rr.com [204.210.242.245])\\n\\tby linux.midrange.com (8.11.6/8.11.6) with ESMTP id g6LAAT426917\\n\\tfor <lynn.dietz@midrange.com>; Sun, 21 Jul 2002 05:10:29 -0500\\nMessage-Id: <200207211010.g6LAAT426917@linux.midrange.com>\\nReceived: from 210.154.77.242 (mx.daisetsu.co.jp [210.154.77.242]) by pdc.clarkgraphicsinc.com with SMTP (Microsoft Exchange Internet Mail Service Version 5.5.2653.13)\\n\\tid 31KWK5NW; Sun, 21 Jul 2002 06:19:21 -0400\\nFrom: mike0123896667196@yahoo.com\\nTo: dmscontract@aol.com\\nDate: Sun, 21 Jul 2002 03:07:14 -0700\\nSubject: Mortgage Information For You!........\\nX-Mailer: Microsoft Outlook Express 6.00.2600.0000\\nMIME-Version: 1.0\\nX-Precedence-Ref: 123\\nContent-Type: text/html; charset=us-ascii\\nContent-Transfer-Encoding: 7bit\\nX-Status: \\nX-Keywords: '"
      ]
     },
     "execution_count": 211,
     "metadata": {},
     "output_type": "execute_result"
    }
   ],
   "source": [
    "heading"
   ]
  },
  {
   "cell_type": "code",
   "execution_count": 302,
   "metadata": {},
   "outputs": [
    {
     "data": {
      "text/plain": [
       "'<HTML><FONT  SIZE=2 PTSIZE=10 FAMILY=\"SANSSERIF\" FACE=\"Arial\" LANG=\"0\">HAS YOUR MORTGAGE SEARCH GOT YOU DOWN?<BR>\\n<BR>\\nWin a $30,000 mortgage just for trying to get your mortgage rates down, and a little cash in your pocket!!<BR>\\nknow who is telling you the truth! We can solve all your problems.<BR>\\n<BR>\\nVisit our site today and in two minutes you can have us searching thousands of <BR>\\nprograms and lenders for you. Get the truth, get the facts, get your options <BR>\\nall in one shot. It\\'s absolutely FREE, and you can be done in only two minutes, <BR>\\nso <A HREF=\"http://www.zonehosts.net/yourlocallenders/index.html\">Click Right NOW</A> and put your worries behind you!<BR>\\n<BR>\\n</FONT></HTML>\\n\\n [247(^(PO1:KJ)_8J7BJK]\\n\\n\\n'"
      ]
     },
     "execution_count": 302,
     "metadata": {},
     "output_type": "execute_result"
    }
   ],
   "source": [
    "content"
   ]
  },
  {
   "cell_type": "code",
   "execution_count": 11,
   "metadata": {},
   "outputs": [],
   "source": [
    "class HeadPattern():\n",
    "    def __init__(self, pattern):\n",
    "        self.pattern = pattern\n",
    "        self.pattern_list = []\n",
    "    \n",
    "    @property\n",
    "    def pattern_cat(self):\n",
    "        return 0    \n",
    "    \n",
    "    def find(self, header):\n",
    "        self.pattern_list = self.pattern.findall(header)\n",
    "        \n",
    "    def isNone(self):\n",
    "        return (self.pattern_list == [])\n",
    "    \n",
    "    def display_pattern(self):\n",
    "        print(self.pattern_list)\n",
    "    \n",
    "    def len_list_pattern(self):\n",
    "        return (len(self.pattern_list))\n",
    "    \n",
    "    def processing(self, header):\n",
    "        pass"
   ]
  },
  {
   "cell_type": "code",
   "execution_count": 12,
   "metadata": {},
   "outputs": [],
   "source": [
    "class FromPattern(HeadPattern):\n",
    "    def __init__(self):\n",
    "        HeadPattern.__init__(self, from_pattern)\n",
    "    \n",
    "    def processing(self, header):\n",
    "        self.find(header)\n",
    "        name = ''\n",
    "        domain = ''\n",
    "        extension = ''\n",
    "        if (self.isNone() == False):\n",
    "            length = self.len_list_pattern()\n",
    "            for i in range(length):\n",
    "                mail_pattern1 = re.compile(\"(From:\\s)<(?P<name>.*)@(?P<domain>.*)\\.(?P<extension>.*)>\", re.I)\n",
    "                mail_pattern2 = re.compile(\"(From:\\s)(?P<name>.*)@(?P<domain>.*)\\.(?P<extension>.*)\", re.I)\n",
    "                mail_address = mail_pattern1.search(self.pattern_list[i])\n",
    "                if (mail_address == None):\n",
    "                    mail_address = mail_pattern2.search(self.pattern_list[i])\n",
    "                if (mail_address != None):\n",
    "                    name = mail_address.group('name')\n",
    "                    domain = mail_address.group('domain')\n",
    "                    extension = mail_address.group('extension')\n",
    "        len_name = len(name)\n",
    "        number_in_name = re.findall(\"\\d\", name)\n",
    "        if (number_in_name != None):\n",
    "            len_number_in_name = len(re.findall(\"\\d\", name))\n",
    "        else:\n",
    "            len_number_in_name = 0\n",
    "        return ([len_name, len_number_in_name, domain, extension])\n",
    "    \n",
    "    @property\n",
    "    def pattern_cat(self):\n",
    "        return (\"from\")"
   ]
  },
  {
   "cell_type": "code",
   "execution_count": 326,
   "metadata": {},
   "outputs": [],
   "source": [
    "from_patt = FromPattern()"
   ]
  },
  {
   "cell_type": "code",
   "execution_count": 329,
   "metadata": {},
   "outputs": [
    {
     "name": "stdout",
     "output_type": "stream",
     "text": [
      "['From: mike0123896667196@yahoo.com']\n"
     ]
    },
    {
     "data": {
      "text/plain": [
       "[17, 13, 'yahoo', 'com']"
      ]
     },
     "execution_count": 329,
     "metadata": {},
     "output_type": "execute_result"
    }
   ],
   "source": [
    "from_patt.processing(heading)"
   ]
  },
  {
   "cell_type": "code",
   "execution_count": 17,
   "metadata": {},
   "outputs": [],
   "source": [
    "class SubjectPattern(HeadPattern):\n",
    "    def __init__(self):\n",
    "        HeadPattern.__init__(self, subject_pattern)\n",
    "    \n",
    "    def processing(self, header):\n",
    "        self.find(header)\n",
    "        number_of_maj = 0\n",
    "        number_of_number = 0\n",
    "        number_of_char = 0\n",
    "        number_of_special_char = 0\n",
    "        if (self.isNone() == False):\n",
    "            number_of_maj = len(re.findall(\"[A-Z]\", self.pattern_list[0])) - 1 #Subtract \"S\" of \"Subject\"\n",
    "            number_of_number = len(re.findall(\"\\d\", self.pattern_list[0]))  #Subtract len(\"Subject:\"))\n",
    "            number_of_char = len(self.pattern_list[0]) - 8 #Subtract len(\"Subject:\"))\n",
    "            number_of_special_char = len(re.findall(\"[\\!\\?\\$]\", self.pattern_list[0]))\n",
    "        return ([number_of_char, number_of_maj, number_of_number, number_of_special_char])\n",
    "    @property\n",
    "    def pattern_cat(self):\n",
    "        return(\"subject\")"
   ]
  },
  {
   "cell_type": "code",
   "execution_count": 18,
   "metadata": {},
   "outputs": [],
   "source": [
    "subject_patt = SubjectPattern()"
   ]
  },
  {
   "cell_type": "code",
   "execution_count": 22,
   "metadata": {},
   "outputs": [
    {
     "data": {
      "text/plain": [
       "[11, 1, 1, 1]"
      ]
     },
     "execution_count": 22,
     "metadata": {},
     "output_type": "execute_result"
    }
   ],
   "source": [
    "string = \"Subject: dD9vfdvdf$\"\n",
    "subject_patt.processing(string)"
   ]
  },
  {
   "cell_type": "code",
   "execution_count": 23,
   "metadata": {},
   "outputs": [],
   "source": [
    "class DatePattern(HeadPattern):\n",
    "    def __init__(self):\n",
    "        HeadPattern.__init__(self, date_pattern)\n",
    "    \n",
    "    def processing(self, header):\n",
    "        self.find(header)\n",
    "        hour = np.nan\n",
    "        if (self.isNone() == False):\n",
    "            hour_patt = re.compile(\"(?P<hour>\\d{1,2}):(?P<minute>\\d{2}):(?P<second>\\d{2})\")\n",
    "            hour = int(hour_patt.search(self.pattern_list[0]).group('hour')) \n",
    "        return (hour)\n",
    "    @property\n",
    "    def pattern_cat(self):\n",
    "        return(\"date\")"
   ]
  },
  {
   "cell_type": "code",
   "execution_count": 24,
   "metadata": {},
   "outputs": [],
   "source": [
    "date_patt = DatePattern()"
   ]
  },
  {
   "cell_type": "code",
   "execution_count": 25,
   "metadata": {},
   "outputs": [
    {
     "data": {
      "text/plain": [
       "3"
      ]
     },
     "execution_count": 25,
     "metadata": {},
     "output_type": "execute_result"
    }
   ],
   "source": [
    "string = \"Date: ezzedde 2:23:43 12:34:34\"\n",
    "date_patt.processing(heading)"
   ]
  },
  {
   "cell_type": "code",
   "execution_count": 26,
   "metadata": {},
   "outputs": [],
   "source": [
    "class ContentTypePattern(HeadPattern):\n",
    "    def __init__(self):\n",
    "        HeadPattern.__init__(self, content_type_pattern)\n",
    "    \n",
    "    def processing(self, header):\n",
    "        self.find(header)\n",
    "        content_type = np.nan\n",
    "        if (self.isNone() == False):\n",
    "            content_type_patt = re.compile(\"\"\"(Content-Type:)\\s(?P<type>.*)[;\\n]\"\"\", re.X)\n",
    "            content_type = content_type_patt.search(self.pattern_list[0]).group('type')\n",
    "        return (content_type)\n",
    "    \n",
    "    @property\n",
    "    def pattern_cat(self):\n",
    "        return(\"content-type\")"
   ]
  },
  {
   "cell_type": "code",
   "execution_count": 160,
   "metadata": {},
   "outputs": [],
   "source": [
    "cont_patt = ContentTypePattern()"
   ]
  },
  {
   "cell_type": "code",
   "execution_count": 161,
   "metadata": {},
   "outputs": [
    {
     "data": {
      "text/plain": [
       "'cdcs'"
      ]
     },
     "execution_count": 161,
     "metadata": {},
     "output_type": "execute_result"
    }
   ],
   "source": [
    "string = \"Content-Type: cdcs; charset=fzfds\"\n",
    "cont_patt.processing(string)"
   ]
  },
  {
   "cell_type": "code",
   "execution_count": 27,
   "metadata": {},
   "outputs": [],
   "source": [
    "class ImportancePattern(HeadPattern):\n",
    "    def __init__(self):\n",
    "        HeadPattern.__init__(self, importance_pattern)\n",
    "    \n",
    "    def processing(self, header):\n",
    "        self.find(header)\n",
    "        importance = np.nan\n",
    "        if (self.isNone() == False):\n",
    "            importance = self.pattern_list[0][12:]\n",
    "        return (importance)\n",
    "    @property\n",
    "    def pattern_cat(self):\n",
    "        return(\"importance\")"
   ]
  },
  {
   "cell_type": "code",
   "execution_count": 192,
   "metadata": {},
   "outputs": [],
   "source": [
    "imp_patt = ImportancePattern()"
   ]
  },
  {
   "cell_type": "code",
   "execution_count": 193,
   "metadata": {},
   "outputs": [
    {
     "data": {
      "text/plain": [
       "'dzedzededdez'"
      ]
     },
     "execution_count": 193,
     "metadata": {},
     "output_type": "execute_result"
    }
   ],
   "source": [
    "string = \"Importance: dzedzededdez\\n\\r\"\n",
    "imp_patt.processing(string)"
   ]
  },
  {
   "cell_type": "code",
   "execution_count": 28,
   "metadata": {},
   "outputs": [],
   "source": [
    "class XSpamPattern(HeadPattern):\n",
    "    def __init__(self):\n",
    "        HeadPattern.__init__(self, x_spam_pattern)\n",
    "    \n",
    "    def processing(self, header):\n",
    "        self.find(header)\n",
    "        x_spam_word = np.nan\n",
    "        if (self.isNone() == False):\n",
    "            x_spam_word = self.pattern_list[0][8:]\n",
    "        return (x_spam_word)\n",
    "    \n",
    "    @property\n",
    "    def pattern_cat(self):\n",
    "        return(\"x-spam\")"
   ]
  },
  {
   "cell_type": "code",
   "execution_count": 241,
   "metadata": {},
   "outputs": [],
   "source": [
    "xspam_patt = XSpamPattern()"
   ]
  },
  {
   "cell_type": "code",
   "execution_count": 242,
   "metadata": {},
   "outputs": [
    {
     "data": {
      "text/plain": [
       "'zdez'"
      ]
     },
     "execution_count": 242,
     "metadata": {},
     "output_type": "execute_result"
    }
   ],
   "source": [
    "string = \"X-Spam: zdez\\n\\r\"\n",
    "xspam_patt.processing(string)"
   ]
  },
  {
   "cell_type": "code",
   "execution_count": 29,
   "metadata": {},
   "outputs": [],
   "source": [
    "class X_Pattern(HeadPattern):\n",
    "    def __init__(self):\n",
    "        HeadPattern.__init__(self, x_pattern)\n",
    "    \n",
    "    def processing(self, header):\n",
    "        self.find(header)\n",
    "        return (self.len_list_pattern())\n",
    "    \n",
    "    @property\n",
    "    def pattern_cat(self):\n",
    "        return(\"x-*\")"
   ]
  },
  {
   "cell_type": "code",
   "execution_count": 213,
   "metadata": {},
   "outputs": [],
   "source": [
    "x_patt = X_Pattern()"
   ]
  },
  {
   "cell_type": "code",
   "execution_count": 214,
   "metadata": {
    "scrolled": true
   },
   "outputs": [
    {
     "data": {
      "text/plain": [
       "1"
      ]
     },
     "execution_count": 214,
     "metadata": {},
     "output_type": "execute_result"
    }
   ],
   "source": [
    "string = \"X-Spam: zdez\\n\\r\"\n",
    "x_patt.processing(string)"
   ]
  },
  {
   "cell_type": "code",
   "execution_count": 30,
   "metadata": {},
   "outputs": [],
   "source": [
    "important_heading_pattern = [\n",
    "    FromPattern(),\n",
    "    SubjectPattern(),\n",
    "    DatePattern(),\n",
    "    ContentTypePattern(),\n",
    "    ImportancePattern(),\n",
    "    XSpamPattern(),\n",
    "    X_Pattern(),\n",
    "]"
   ]
  },
  {
   "cell_type": "code",
   "execution_count": 31,
   "metadata": {},
   "outputs": [
    {
     "data": {
      "text/html": [
       "<div>\n",
       "<style scoped>\n",
       "    .dataframe tbody tr th:only-of-type {\n",
       "        vertical-align: middle;\n",
       "    }\n",
       "\n",
       "    .dataframe tbody tr th {\n",
       "        vertical-align: top;\n",
       "    }\n",
       "\n",
       "    .dataframe thead th {\n",
       "        text-align: right;\n",
       "    }\n",
       "</style>\n",
       "<table border=\"1\" class=\"dataframe\">\n",
       "  <thead>\n",
       "    <tr style=\"text-align: right;\">\n",
       "      <th></th>\n",
       "      <th>from</th>\n",
       "      <th>subject</th>\n",
       "      <th>date</th>\n",
       "      <th>content-type</th>\n",
       "      <th>importance</th>\n",
       "      <th>x-spam</th>\n",
       "      <th>x-*</th>\n",
       "    </tr>\n",
       "  </thead>\n",
       "  <tbody>\n",
       "  </tbody>\n",
       "</table>\n",
       "</div>"
      ],
      "text/plain": [
       "Empty DataFrame\n",
       "Columns: [from, subject, date, content-type, importance, x-spam, x-*]\n",
       "Index: []"
      ]
     },
     "execution_count": 31,
     "metadata": {},
     "output_type": "execute_result"
    }
   ],
   "source": [
    "heading_dataframe = pd.DataFrame()\n",
    "for important_pattern in important_heading_pattern:\n",
    "    heading_dataframe[important_pattern.pattern_cat]=[]\n",
    "\n",
    "heading_dataframe"
   ]
  },
  {
   "cell_type": "code",
   "execution_count": 32,
   "metadata": {},
   "outputs": [],
   "source": [
    "def process_heading(heading_dataframe, heading):\n",
    "    attributes = []\n",
    "    for important_pattern in important_heading_pattern:\n",
    "        attributes.append(important_pattern.processing(heading))\n",
    "    heading_dataframe.loc[len(heading_dataframe.index)] = attributes"
   ]
  },
  {
   "cell_type": "code",
   "execution_count": 33,
   "metadata": {},
   "outputs": [
    {
     "name": "stdout",
     "output_type": "stream",
     "text": [
      "[[17, 13, 'yahoo', 'com'], [38, 4, 0, 1], 3, nan, nan, nan, 2]\n"
     ]
    },
    {
     "name": "stderr",
     "output_type": "stream",
     "text": [
      "/home/hugo/Machine_learning/Machine_learning_course/ml_env/lib/python3.8/site-packages/numpy/core/_asarray.py:83: VisibleDeprecationWarning: Creating an ndarray from ragged nested sequences (which is a list-or-tuple of lists-or-tuples-or ndarrays with different lengths or shapes) is deprecated. If you meant to do this, you must specify 'dtype=object' when creating the ndarray\n",
      "  return array(a, dtype, copy=False, order=order)\n"
     ]
    },
    {
     "data": {
      "text/html": [
       "<div>\n",
       "<style scoped>\n",
       "    .dataframe tbody tr th:only-of-type {\n",
       "        vertical-align: middle;\n",
       "    }\n",
       "\n",
       "    .dataframe tbody tr th {\n",
       "        vertical-align: top;\n",
       "    }\n",
       "\n",
       "    .dataframe thead th {\n",
       "        text-align: right;\n",
       "    }\n",
       "</style>\n",
       "<table border=\"1\" class=\"dataframe\">\n",
       "  <thead>\n",
       "    <tr style=\"text-align: right;\">\n",
       "      <th></th>\n",
       "      <th>from</th>\n",
       "      <th>subject</th>\n",
       "      <th>date</th>\n",
       "      <th>content-type</th>\n",
       "      <th>importance</th>\n",
       "      <th>x-spam</th>\n",
       "      <th>x-*</th>\n",
       "    </tr>\n",
       "  </thead>\n",
       "  <tbody>\n",
       "    <tr>\n",
       "      <th>0</th>\n",
       "      <td>[17, 13, yahoo, com]</td>\n",
       "      <td>[38, 4, 0, 1]</td>\n",
       "      <td>3.0</td>\n",
       "      <td>NaN</td>\n",
       "      <td>NaN</td>\n",
       "      <td>NaN</td>\n",
       "      <td>2.0</td>\n",
       "    </tr>\n",
       "  </tbody>\n",
       "</table>\n",
       "</div>"
      ],
      "text/plain": [
       "                   from        subject  date  content-type  importance  \\\n",
       "0  [17, 13, yahoo, com]  [38, 4, 0, 1]   3.0           NaN         NaN   \n",
       "\n",
       "   x-spam  x-*  \n",
       "0     NaN  2.0  "
      ]
     },
     "execution_count": 33,
     "metadata": {},
     "output_type": "execute_result"
    }
   ],
   "source": [
    "process_heading(heading_dataframe,heading)\n",
    "heading_dataframe"
   ]
  },
  {
   "cell_type": "code",
   "execution_count": 78,
   "metadata": {},
   "outputs": [],
   "source": [
    "HTML_pattern = re.compile(\"\\<.*?\\>\", re.S)\n",
    "URL_pattern = re.compile(\"http.*\\s\", re.I | re.X)\n",
    "mail_pattern = re.compile(\"\\b\\w+@\\w[\\.]+\\b\", re.I)\n",
    "arrow_pattern = re.compile(\"^\\>\", re.M)\n",
    "price_pattern = re.compile(\"[\\$£]\\s{0,2}\\d+[,\\.]\\d+ | [\\$£]\\s{0,2}\\d+ | \\d+\\s{0,2}[$£] | \\d+[,\\.]\\d+\\s{0,2}[$£]\", re.X)\n",
    "one_two_letter_word_pattern = re.compile(r\"\\b[a-zA-Z]{1,2}\\b\", re.X | re.M)\n",
    "\n",
    "punctuation_pattern = re.compile(r\"[\\?\\!]\", re.X)\n",
    "hour_date_pattern = re.compile(\"\\d{4}\\s*[a-zA-Z]{2,8}\\s*\\d{1,2} | \\d{1,2}\\s*[a-zA-Z]{2,8}\\s*\\d{4} | \\d{1,2}:\\d{2}:\\d{2}\", re.X)\n",
    "\n",
    "maj_pattern = re.compile(\"[A-Z]\", re.X)\n",
    "number_pattern = re.compile(\"\\d+\", re.X)"
   ]
  },
  {
   "cell_type": "code",
   "execution_count": 56,
   "metadata": {
    "scrolled": true
   },
   "outputs": [
    {
     "data": {
      "text/plain": [
       "['/home/hugo/Machine_learning/Machine_learning_course/chap_3/spam_datasets/20030228_spam_2/',\n",
       " '/home/hugo/Machine_learning/Machine_learning_course/chap_3/spam_datasets/20050311_spam_2/',\n",
       " '/home/hugo/Machine_learning/Machine_learning_course/chap_3/spam_datasets/20021010_spam/',\n",
       " '/home/hugo/Machine_learning/Machine_learning_course/chap_3/spam_datasets/20030228_spam/']"
      ]
     },
     "execution_count": 56,
     "metadata": {},
     "output_type": "execute_result"
    }
   ],
   "source": [
    "spam_folders_path"
   ]
  },
  {
   "cell_type": "code",
   "execution_count": 68,
   "metadata": {},
   "outputs": [],
   "source": [
    "class ContentPattern():\n",
    "    def __init__(self, pattern):\n",
    "        self.pattern = pattern\n",
    "        self.pattern_list = []\n",
    "    \n",
    "    @property\n",
    "    def pattern_cat(self):\n",
    "        return 0    \n",
    "    \n",
    "    def find(self, content):\n",
    "        self.pattern_list = self.pattern.findall(content)\n",
    "        \n",
    "    def isNone(self):\n",
    "        return (self.pattern_list == [])\n",
    "    \n",
    "    def display_pattern(self):\n",
    "        print(self.pattern_list)\n",
    "    \n",
    "    def len_list_pattern(self):\n",
    "        return (len(self.pattern_list))\n",
    "    \n",
    "    def count(self, content):\n",
    "        self.find(content)\n",
    "        return (self.len_list_pattern())\n",
    "    \n",
    "    def replace(self, content):\n",
    "        new_content = self.pattern.sub(\"\", content)\n",
    "        return (new_content)\n",
    "    \n",
    "    def count_replace(self, content):\n",
    "        pattern_nb = 0\n",
    "        new_content, pattern_nb = self.pattern.subn(\"\", content)\n",
    "        return (new_content, pattern_nb)\n",
    "    \n",
    "    def processing(self, content):\n",
    "        pass"
   ]
  },
  {
   "cell_type": "code",
   "execution_count": 275,
   "metadata": {},
   "outputs": [],
   "source": [
    "class HTMLPattern(ContentPattern):\n",
    "    def __init__(self):\n",
    "        ContentPattern.__init__(self, HTML_pattern)\n",
    "    \n",
    "    def processing(self, content):\n",
    "        return self.count_replace(content)\n",
    "    @property\n",
    "    def pattern_cat(self):\n",
    "        return(\"html\")"
   ]
  },
  {
   "cell_type": "code",
   "execution_count": 276,
   "metadata": {},
   "outputs": [],
   "source": [
    "html_patt = HTMLPattern()"
   ]
  },
  {
   "cell_type": "code",
   "execution_count": 277,
   "metadata": {},
   "outputs": [
    {
     "data": {
      "text/plain": [
       "'jdejd'"
      ]
     },
     "execution_count": 277,
     "metadata": {},
     "output_type": "execute_result"
    }
   ],
   "source": [
    "string = \"jdejd<bjhbj>\"\n",
    "string, nb = html_patt.processing(string)\n",
    "string"
   ]
  },
  {
   "cell_type": "code",
   "execution_count": 216,
   "metadata": {},
   "outputs": [
    {
     "data": {
      "text/plain": [
       "\"HAS YOUR MORTGAGE SEARCH GOT YOU DOWN?\\n\\nWin a $30,000 mortgage just for trying to get your mortgage rates down, and a little cash in your pocket!!\\nknow who is telling you the truth! We can solve all your problems.\\n\\nVisit our site today and in two minutes you can have us searching thousands of \\nprograms and lenders for you. Get the truth, get the facts, get your options \\nall in one shot. It's absolutely FREE, and you can be done in only two minutes, \\nso Click Right NOW and put your worries behind you!\\n\\n\\n\\n [247(^(PO1:KJ)_8J7BJK]\\n\\n\\n\""
      ]
     },
     "execution_count": 216,
     "metadata": {},
     "output_type": "execute_result"
    }
   ],
   "source": [
    "content"
   ]
  },
  {
   "cell_type": "code",
   "execution_count": 227,
   "metadata": {},
   "outputs": [],
   "source": [
    "class URLPattern(ContentPattern):\n",
    "    def __init__(self):\n",
    "        ContentPattern.__init__(self, URL_pattern)\n",
    "    \n",
    "    def processing(self, content):\n",
    "        return self.count_replace(content)\n",
    "    \n",
    "    @property\n",
    "    def pattern_cat(self):\n",
    "        return(\"url\")"
   ]
  },
  {
   "cell_type": "code",
   "execution_count": 228,
   "metadata": {},
   "outputs": [],
   "source": [
    "url_patt = URLPattern()"
   ]
  },
  {
   "cell_type": "code",
   "execution_count": 230,
   "metadata": {},
   "outputs": [
    {
     "data": {
      "text/plain": [
       "0"
      ]
     },
     "execution_count": 230,
     "metadata": {},
     "output_type": "execute_result"
    }
   ],
   "source": [
    "content, url_nb = url_patt.processing(content)\n",
    "url_nb"
   ]
  },
  {
   "cell_type": "code",
   "execution_count": 231,
   "metadata": {
    "scrolled": true
   },
   "outputs": [
    {
     "data": {
      "text/plain": [
       "'url'"
      ]
     },
     "execution_count": 231,
     "metadata": {},
     "output_type": "execute_result"
    }
   ],
   "source": [
    "url_patt.pattern_cat"
   ]
  },
  {
   "cell_type": "code",
   "execution_count": 56,
   "metadata": {
    "scrolled": true
   },
   "outputs": [
    {
     "data": {
      "text/plain": [
       "['/home/hugo/Machine_learning/Machine_learning_course/chap_3/spam_datasets/20030228_spam_2/',\n",
       " '/home/hugo/Machine_learning/Machine_learning_course/chap_3/spam_datasets/20050311_spam_2/',\n",
       " '/home/hugo/Machine_learning/Machine_learning_course/chap_3/spam_datasets/20021010_spam/',\n",
       " '/home/hugo/Machine_learning/Machine_learning_course/chap_3/spam_datasets/20030228_spam/']"
      ]
     },
     "execution_count": 56,
     "metadata": {},
     "output_type": "execute_result"
    }
   ],
   "source": [
    "class URLPattern(ContentPattern):\n",
    "    def __init__(self):\n",
    "        ContentPattern.__init__(self, URL_pattern)\n",
    "    \n",
    "    def processing(self, content):\n",
    "        return self.count_replace(content)\n",
    "    \n",
    "    @property\n",
    "    def pattern_cat(self):\n",
    "        return(\"url\")"
   ]
  },
  {
   "cell_type": "code",
   "execution_count": 332,
   "metadata": {},
   "outputs": [],
   "source": [
    "class ArrowPattern(ContentPattern):\n",
    "    def __init__(self):\n",
    "        ContentPattern.__init__(self, arrow_pattern)\n",
    "    \n",
    "    def processing(self, content):\n",
    "        return self.count_replace(content)\n",
    "    \n",
    "    @property\n",
    "    def pattern_cat(self):\n",
    "        return(\"> count\")"
   ]
  },
  {
   "cell_type": "code",
   "execution_count": 240,
   "metadata": {},
   "outputs": [],
   "source": [
    "arrow_patt = ArrowPattern()"
   ]
  },
  {
   "cell_type": "code",
   "execution_count": 241,
   "metadata": {},
   "outputs": [],
   "source": [
    "content, arrow_nb = arrow_patt.processing(content)"
   ]
  },
  {
   "cell_type": "code",
   "execution_count": 242,
   "metadata": {},
   "outputs": [
    {
     "data": {
      "text/plain": [
       "0"
      ]
     },
     "execution_count": 242,
     "metadata": {},
     "output_type": "execute_result"
    }
   ],
   "source": [
    "arrow_nb"
   ]
  },
  {
   "cell_type": "code",
   "execution_count": 233,
   "metadata": {},
   "outputs": [],
   "source": [
    "class PricePattern(ContentPattern):\n",
    "    def __init__(self):\n",
    "        ContentPattern.__init__(self, price_pattern)\n",
    "    \n",
    "    def processing(self, content):\n",
    "        return self.count_replace(content)\n",
    "    \n",
    "    @property\n",
    "    def pattern_cat(self):\n",
    "        return(\"price\")"
   ]
  },
  {
   "cell_type": "code",
   "execution_count": 243,
   "metadata": {},
   "outputs": [
    {
     "data": {
      "text/plain": [
       "1"
      ]
     },
     "execution_count": 243,
     "metadata": {},
     "output_type": "execute_result"
    }
   ],
   "source": [
    "price_patt = PricePattern()\n",
    "content, price_nb = price_patt.processing(content)\n",
    "price_nb"
   ]
  },
  {
   "cell_type": "code",
   "execution_count": 244,
   "metadata": {},
   "outputs": [
    {
     "data": {
      "text/plain": [
       "\"HAS YOUR MORTGAGE SEARCH GOT YOU DOWN?\\n\\nWin a  mortgage just for trying to get your mortgage rates down, and a little cash in your pocket!!\\nknow who is telling you the truth! We can solve all your problems.\\n\\nVisit our site today and in two minutes you can have us searching thousands of \\nprograms and lenders for you. Get the truth, get the facts, get your options \\nall in one shot. It's absolutely FREE, and you can be done in only two minutes, \\nso Click Right NOW and put your worries behind you!\\n\\n\\n\\n [247(^(PO1:KJ)_8J7BJK]\\n\\n\\n\""
      ]
     },
     "execution_count": 244,
     "metadata": {},
     "output_type": "execute_result"
    }
   ],
   "source": [
    "content"
   ]
  },
  {
   "cell_type": "code",
   "execution_count": 236,
   "metadata": {},
   "outputs": [],
   "source": [
    "class PunctuationPattern(ContentPattern):\n",
    "    def __init__(self):\n",
    "        ContentPattern.__init__(self, punctuation_pattern)\n",
    "    \n",
    "    def processing(self, content):\n",
    "        return self.count_replace(content)\n",
    "    \n",
    "    @property\n",
    "    def pattern_cat(self):\n",
    "        return(\"? or !\")"
   ]
  },
  {
   "cell_type": "code",
   "execution_count": 245,
   "metadata": {},
   "outputs": [
    {
     "data": {
      "text/plain": [
       "5"
      ]
     },
     "execution_count": 245,
     "metadata": {},
     "output_type": "execute_result"
    }
   ],
   "source": [
    "punct_patt = PunctuationPattern()\n",
    "content, punct_nb = punct_patt.processing(content)\n",
    "punct_nb"
   ]
  },
  {
   "cell_type": "code",
   "execution_count": 280,
   "metadata": {},
   "outputs": [],
   "source": [
    "class NumberPattern(ContentPattern):\n",
    "    def __init__(self):\n",
    "        ContentPattern.__init__(self, number_pattern)\n",
    "    \n",
    "    def processing(self, content):\n",
    "        return self.count_replace(content)\n",
    "    \n",
    "    @property\n",
    "    def pattern_cat(self):\n",
    "        return(\"Number count\")"
   ]
  },
  {
   "cell_type": "code",
   "execution_count": 281,
   "metadata": {},
   "outputs": [],
   "source": [
    "num_patt = NumberPattern()\n",
    "content, num_nb = num_patt.processing(content)"
   ]
  },
  {
   "cell_type": "code",
   "execution_count": 282,
   "metadata": {},
   "outputs": [
    {
     "data": {
      "text/plain": [
       "\"HAS YOUR MORTGAGE SEARCH GOT YOU DOWN\\n\\nWin   mortgage just for trying  get your mortgage rates down, and  little cash  your pocket\\nknow who  telling you the truth  can solve all your problems.\\n\\nVisit our site today and  two minutes you can have  searching thousands  \\nprograms and lenders for you. Get the truth, get the facts, get your options \\nall  one shot. ' absolutely FREE, and you can  done  only two minutes, \\n Click Right NOW and put your worries behind you\\n\\n\\n\\n [(^(PO:)_JBJK]\\n\\n\\n\""
      ]
     },
     "execution_count": 282,
     "metadata": {},
     "output_type": "execute_result"
    }
   ],
   "source": [
    "content"
   ]
  },
  {
   "cell_type": "code",
   "execution_count": 237,
   "metadata": {},
   "outputs": [],
   "source": [
    "class HourDatePattern(ContentPattern):\n",
    "    def __init__(self):\n",
    "        ContentPattern.__init__(self, hour_date_pattern)\n",
    "    \n",
    "    def processing(self, content):\n",
    "        return self.replace(content)"
   ]
  },
  {
   "cell_type": "code",
   "execution_count": 247,
   "metadata": {},
   "outputs": [
    {
     "data": {
      "text/plain": [
       "\"HAS YOUR MORTGAGE SEARCH GOT YOU DOWN\\n\\nWin a  mortgage just for trying to get your mortgage rates down, and a little cash in your pocket\\nknow who is telling you the truth We can solve all your problems.\\n\\nVisit our site today and in two minutes you can have us searching thousands of \\nprograms and lenders for you. Get the truth, get the facts, get your options \\nall in one shot. It's absolutely FREE, and you can be done in only two minutes, \\nso Click Right NOW and put your worries behind you\\n\\n\\n\\n [247(^(PO1:KJ)_8J7BJK]\\n\\n\\n\""
      ]
     },
     "execution_count": 247,
     "metadata": {},
     "output_type": "execute_result"
    }
   ],
   "source": [
    "hour_date_patt = HourDatePattern()\n",
    "content = hour_date_patt.processing(content)\n",
    "content"
   ]
  },
  {
   "cell_type": "code",
   "execution_count": 249,
   "metadata": {},
   "outputs": [],
   "source": [
    "class OneTwoLetterWordPattern(ContentPattern):\n",
    "    def __init__(self):\n",
    "        ContentPattern.__init__(self, one_two_letter_word_pattern)\n",
    "    \n",
    "    def processing(self, content):\n",
    "        return self.replace(content)"
   ]
  },
  {
   "cell_type": "code",
   "execution_count": 250,
   "metadata": {},
   "outputs": [
    {
     "data": {
      "text/plain": [
       "\"HAS YOUR MORTGAGE SEARCH GOT YOU DOWN\\n\\nWin   mortgage just for trying  get your mortgage rates down, and  little cash  your pocket\\nknow who  telling you the truth  can solve all your problems.\\n\\nVisit our site today and  two minutes you can have  searching thousands  \\nprograms and lenders for you. Get the truth, get the facts, get your options \\nall  one shot. ' absolutely FREE, and you can  done  only two minutes, \\n Click Right NOW and put your worries behind you\\n\\n\\n\\n [247(^(PO1:)_8J7BJK]\\n\\n\\n\""
      ]
     },
     "execution_count": 250,
     "metadata": {},
     "output_type": "execute_result"
    }
   ],
   "source": [
    "one_two_patt = OneTwoLetterWordPattern()\n",
    "content = one_two_patt.processing(content)\n",
    "content"
   ]
  },
  {
   "cell_type": "code",
   "execution_count": 259,
   "metadata": {},
   "outputs": [],
   "source": [
    "class MajPattern(ContentPattern):\n",
    "    def __init__(self):\n",
    "        ContentPattern.__init__(self, maj_pattern)\n",
    "    \n",
    "    def processing(self, content):\n",
    "        return self.count(content)\n",
    "    \n",
    "    @property\n",
    "    def pattern_cat(self):\n",
    "        return(\"Majuscule count\")"
   ]
  },
  {
   "cell_type": "code",
   "execution_count": 260,
   "metadata": {},
   "outputs": [
    {
     "data": {
      "text/plain": [
       "49"
      ]
     },
     "execution_count": 260,
     "metadata": {},
     "output_type": "execute_result"
    }
   ],
   "source": [
    "maj_patt = MajPattern()\n",
    "maj_count = maj_patt.processing(content)\n",
    "maj_count"
   ]
  },
  {
   "cell_type": "code",
   "execution_count": 303,
   "metadata": {},
   "outputs": [],
   "source": [
    "def isolate_all_word(content):\n",
    "    pattern = re.compile(\"\\w+\", re.I | re.X | re.M)\n",
    "    new_content = pattern.findall(content)\n",
    "    return new_content"
   ]
  },
  {
   "cell_type": "code",
   "execution_count": 70,
   "metadata": {},
   "outputs": [],
   "source": [
    "word_pattern = re.compile(\"\\\\b\\w[+-=&]+\\\\b\", re.I | re.X | re.M)\n",
    "\n",
    "class WordPattern(ContentPattern):\n",
    "    def __init__(self):\n",
    "        ContentPattern.__init__(self, word_pattern)\n",
    "    \n",
    "    def processing(self, content):\n",
    "        self.find(content)\n",
    "        print(self.pattern_list)\n",
    "        number_of_word = self.len_list_pattern()\n",
    "        len_word_list = map(len, self.pattern_list)\n",
    "        mean_len_word = sum(len_word_list)/len(len_word_list)\n",
    "        longuest_word = max(len_word_list)\n",
    "        return (content, [number_of_word, mean_len_word, longuest_word])\n",
    "    @property\n",
    "    def pattern_cat(self):\n",
    "        return(\"content_attr\")\n",
    "        "
   ]
  },
  {
   "cell_type": "code",
   "execution_count": 312,
   "metadata": {
    "scrolled": true
   },
   "outputs": [
    {
     "data": {
      "text/plain": [
       "'<HTML><FONT  SIZE=2 PTSIZE=10 FAMILY=\"SANSSERIF\" FACE=\"Arial\" LANG=\"0\">HAS YOUR MORTGAGE SEARCH GOT YOU DOWN?<BR>\\n<BR>\\nWin a $30,000 mortgage just for trying to get your mortgage rates down, and a little cash in your pocket!!<BR>\\nknow who is telling you the truth! We can solve all your problems.<BR>\\n<BR>\\nVisit our site today and in two minutes you can have us searching thousands of <BR>\\nprograms and lenders for you. Get the truth, get the facts, get your options <BR>\\nall in one shot. It\\'s absolutely FREE, and you can be done in only two minutes, <BR>\\nso <A HREF=\"http://www.zonehosts.net/yourlocallenders/index.html\">Click Right NOW</A> and put your worries behind you!<BR>\\n<BR>\\n</FONT></HTML>\\n\\n [247(^(PO1:KJ)_8J7BJK]\\n\\n\\n'"
      ]
     },
     "execution_count": 312,
     "metadata": {},
     "output_type": "execute_result"
    }
   ],
   "source": [
    "content"
   ]
  },
  {
   "cell_type": "code",
   "execution_count": 77,
   "metadata": {},
   "outputs": [
    {
     "name": "stdout",
     "output_type": "stream",
     "text": [
      "['HTML', 'FONT', 'SIZE', '2', 'PTSIZE', '10', 'FAMILY', 'SANSSERIF', 'FACE', 'Arial', 'LANG', '0', 'HAS', 'YOUR', 'MORTGAGE', 'SEARCH', 'GOT', 'YOU', 'DOWN', 'BR', 'BR', 'Win', 'a', '30', '000', 'mortgage', 'just', 'for', 'trying', 'to', 'get', 'your', 'mortgage', 'rates', 'down', 'and', 'a', 'little', 'cash', 'in', 'your', 'pocket', 'BR', 'know', 'who', 'is', 'telling', 'you', 'the', 'truth', 'We', 'can', 'solve', 'all', 'your', 'problems', 'BR', 'BR', 'Visit', 'our', 'site', 'today', 'and', 'in', 'two', 'minutes', 'you', 'can', 'have', 'us', 'searching', 'thousands', 'of', 'BR', 'programs', 'and', 'lenders', 'for', 'you', 'Get', 'the', 'truth', 'get', 'the', 'facts', 'get', 'your', 'options', 'BR', 'all', 'in', 'one', 'shot', 'It', 's', 'absolutely', 'FREE', 'and', 'you', 'can', 'be', 'done', 'in', 'only', 'two', 'minutes', 'BR', 'so', 'A', 'HREF', 'http', 'www', 'zonehosts', 'net', 'yourlocallenders', 'index', 'html', 'Click', 'Right', 'NOW', 'A', 'and', 'put', 'your', 'worries', 'behind', 'you', 'BR', 'BR', 'FONT', 'HTML', '247', 'PO1', 'KJ', '_8J7BJK']\n"
     ]
    },
    {
     "ename": "TypeError",
     "evalue": "object of type 'map' has no len()",
     "output_type": "error",
     "traceback": [
      "\u001b[0;31m---------------------------------------------------------------------------\u001b[0m",
      "\u001b[0;31mTypeError\u001b[0m                                 Traceback (most recent call last)",
      "\u001b[0;32m<ipython-input-77-694a1a59aa01>\u001b[0m in \u001b[0;36m<module>\u001b[0;34m\u001b[0m\n\u001b[1;32m      1\u001b[0m \u001b[0mword_patt\u001b[0m \u001b[0;34m=\u001b[0m \u001b[0mWordPattern\u001b[0m\u001b[0;34m(\u001b[0m\u001b[0;34m)\u001b[0m\u001b[0;34m\u001b[0m\u001b[0;34m\u001b[0m\u001b[0m\n\u001b[0;32m----> 2\u001b[0;31m \u001b[0mcontent\u001b[0m\u001b[0;34m,\u001b[0m \u001b[0mword_list\u001b[0m \u001b[0;34m=\u001b[0m \u001b[0mword_patt\u001b[0m\u001b[0;34m.\u001b[0m\u001b[0mprocessing\u001b[0m\u001b[0;34m(\u001b[0m\u001b[0mcontent\u001b[0m\u001b[0;34m)\u001b[0m\u001b[0;34m\u001b[0m\u001b[0;34m\u001b[0m\u001b[0m\n\u001b[0m",
      "\u001b[0;32m<ipython-input-70-b5055c70f3a6>\u001b[0m in \u001b[0;36mprocessing\u001b[0;34m(self, content)\u001b[0m\n\u001b[1;32m     10\u001b[0m         \u001b[0mnumber_of_word\u001b[0m \u001b[0;34m=\u001b[0m \u001b[0mself\u001b[0m\u001b[0;34m.\u001b[0m\u001b[0mlen_list_pattern\u001b[0m\u001b[0;34m(\u001b[0m\u001b[0;34m)\u001b[0m\u001b[0;34m\u001b[0m\u001b[0;34m\u001b[0m\u001b[0m\n\u001b[1;32m     11\u001b[0m         \u001b[0mlen_word_list\u001b[0m \u001b[0;34m=\u001b[0m \u001b[0mmap\u001b[0m\u001b[0;34m(\u001b[0m\u001b[0mlen\u001b[0m\u001b[0;34m,\u001b[0m \u001b[0mself\u001b[0m\u001b[0;34m.\u001b[0m\u001b[0mpattern_list\u001b[0m\u001b[0;34m)\u001b[0m\u001b[0;34m\u001b[0m\u001b[0;34m\u001b[0m\u001b[0m\n\u001b[0;32m---> 12\u001b[0;31m         \u001b[0mmean_len_word\u001b[0m \u001b[0;34m=\u001b[0m \u001b[0msum\u001b[0m\u001b[0;34m(\u001b[0m\u001b[0mlen_word_list\u001b[0m\u001b[0;34m)\u001b[0m\u001b[0;34m/\u001b[0m\u001b[0mlen\u001b[0m\u001b[0;34m(\u001b[0m\u001b[0mlen_word_list\u001b[0m\u001b[0;34m)\u001b[0m\u001b[0;34m\u001b[0m\u001b[0;34m\u001b[0m\u001b[0m\n\u001b[0m\u001b[1;32m     13\u001b[0m         \u001b[0mlonguest_word\u001b[0m \u001b[0;34m=\u001b[0m \u001b[0mmax\u001b[0m\u001b[0;34m(\u001b[0m\u001b[0mlen_word_list\u001b[0m\u001b[0;34m)\u001b[0m\u001b[0;34m\u001b[0m\u001b[0;34m\u001b[0m\u001b[0m\n\u001b[1;32m     14\u001b[0m         \u001b[0;32mreturn\u001b[0m \u001b[0;34m(\u001b[0m\u001b[0mcontent\u001b[0m\u001b[0;34m,\u001b[0m \u001b[0;34m[\u001b[0m\u001b[0mnumber_of_word\u001b[0m\u001b[0;34m,\u001b[0m \u001b[0mmean_len_word\u001b[0m\u001b[0;34m,\u001b[0m \u001b[0mlonguest_word\u001b[0m\u001b[0;34m]\u001b[0m\u001b[0;34m)\u001b[0m\u001b[0;34m\u001b[0m\u001b[0;34m\u001b[0m\u001b[0m\n",
      "\u001b[0;31mTypeError\u001b[0m: object of type 'map' has no len()"
     ]
    }
   ],
   "source": [
    "word_patt = WordPattern()\n",
    "content, word_list = word_patt.processing(content)"
   ]
  },
  {
   "cell_type": "code",
   "execution_count": 320,
   "metadata": {},
   "outputs": [
    {
     "data": {
      "text/plain": [
       "[135, 16]"
      ]
     },
     "execution_count": 320,
     "metadata": {},
     "output_type": "execute_result"
    }
   ],
   "source": [
    "word_list"
   ]
  },
  {
   "cell_type": "code",
   "execution_count": 333,
   "metadata": {},
   "outputs": [],
   "source": [
    "\n",
    "count_replace_content_pattern_list = [\n",
    "    HTMLPattern(),\n",
    "    URLPattern(),\n",
    "    WordPattern(),\n",
    "    ArrowPattern(),\n",
    "    PricePattern(),\n",
    "    PunctuationPattern(),\n",
    "    NumberPattern(),\n",
    "]\n",
    "\n",
    "replace_content_list = [\n",
    "    OneTwoLetterWordPattern(),\n",
    "    HourDatePattern(),\n",
    "]\n",
    "\n",
    "count_content_list = [\n",
    "    MajPattern(),\n",
    "]"
   ]
  },
  {
   "cell_type": "code",
   "execution_count": 334,
   "metadata": {},
   "outputs": [],
   "source": [
    "content_dataframe = pd.DataFrame()\n",
    "for count_repl_patt in count_replace_content_pattern_list:\n",
    "    content_dataframe[count_repl_patt.pattern_cat]=[]\n",
    "for count_patt in count_content_list:\n",
    "    content_dataframe[count_patt.pattern_cat]=[]\n",
    "content_dataframe['all words']=[]"
   ]
  },
  {
   "cell_type": "code",
   "execution_count": 335,
   "metadata": {},
   "outputs": [
    {
     "data": {
      "text/html": [
       "<div>\n",
       "<style scoped>\n",
       "    .dataframe tbody tr th:only-of-type {\n",
       "        vertical-align: middle;\n",
       "    }\n",
       "\n",
       "    .dataframe tbody tr th {\n",
       "        vertical-align: top;\n",
       "    }\n",
       "\n",
       "    .dataframe thead th {\n",
       "        text-align: right;\n",
       "    }\n",
       "</style>\n",
       "<table border=\"1\" class=\"dataframe\">\n",
       "  <thead>\n",
       "    <tr style=\"text-align: right;\">\n",
       "      <th></th>\n",
       "      <th>html</th>\n",
       "      <th>url</th>\n",
       "      <th>content_attr</th>\n",
       "      <th>&gt; count</th>\n",
       "      <th>price</th>\n",
       "      <th>? or !</th>\n",
       "      <th>Number count</th>\n",
       "      <th>Majuscule count</th>\n",
       "      <th>all words</th>\n",
       "    </tr>\n",
       "  </thead>\n",
       "  <tbody>\n",
       "  </tbody>\n",
       "</table>\n",
       "</div>"
      ],
      "text/plain": [
       "Empty DataFrame\n",
       "Columns: [html, url, content_attr, > count, price, ? or !, Number count, Majuscule count, all words]\n",
       "Index: []"
      ]
     },
     "execution_count": 335,
     "metadata": {},
     "output_type": "execute_result"
    }
   ],
   "source": [
    "content_dataframe"
   ]
  },
  {
   "cell_type": "code",
   "execution_count": 336,
   "metadata": {},
   "outputs": [],
   "source": [
    "def process_content(content_dataframe, content):\n",
    "    attributes = []\n",
    "    new_content = content\n",
    "    for count_repl_patt in count_replace_content_pattern_list:\n",
    "        new_content, count = count_repl_patt.processing(new_content)\n",
    "        attributes.append(count)\n",
    "    for repl_patt in replace_content_list:\n",
    "        new_content = repl_patt.processing(new_content)\n",
    "    for count_patt in count_content_list:\n",
    "        count = count_patt.processing(new_content)\n",
    "        attributes.append(count)\n",
    "    word_list = isolate_all_word(new_content)\n",
    "    attributes.append(word_list)\n",
    "    content_dataframe.loc[len(content_dataframe.index)] = attributes"
   ]
  },
  {
   "cell_type": "code",
   "execution_count": 337,
   "metadata": {},
   "outputs": [
    {
     "name": "stderr",
     "output_type": "stream",
     "text": [
      "/home/hugo/Machine_learning/Machine_learning_course/ml_env/lib/python3.8/site-packages/numpy/core/_asarray.py:83: VisibleDeprecationWarning: Creating an ndarray from ragged nested sequences (which is a list-or-tuple of lists-or-tuples-or ndarrays with different lengths or shapes) is deprecated. If you meant to do this, you must specify 'dtype=object' when creating the ndarray\n",
      "  return array(a, dtype, copy=False, order=order)\n"
     ]
    }
   ],
   "source": [
    "process_content(content_dataframe, content)"
   ]
  },
  {
   "cell_type": "code",
   "execution_count": 338,
   "metadata": {
    "scrolled": true
   },
   "outputs": [
    {
     "data": {
      "text/html": [
       "<div>\n",
       "<style scoped>\n",
       "    .dataframe tbody tr th:only-of-type {\n",
       "        vertical-align: middle;\n",
       "    }\n",
       "\n",
       "    .dataframe tbody tr th {\n",
       "        vertical-align: top;\n",
       "    }\n",
       "\n",
       "    .dataframe thead th {\n",
       "        text-align: right;\n",
       "    }\n",
       "</style>\n",
       "<table border=\"1\" class=\"dataframe\">\n",
       "  <thead>\n",
       "    <tr style=\"text-align: right;\">\n",
       "      <th></th>\n",
       "      <th>html</th>\n",
       "      <th>url</th>\n",
       "      <th>content_attr</th>\n",
       "      <th>&gt; count</th>\n",
       "      <th>price</th>\n",
       "      <th>? or !</th>\n",
       "      <th>Number count</th>\n",
       "      <th>Majuscule count</th>\n",
       "      <th>all words</th>\n",
       "    </tr>\n",
       "  </thead>\n",
       "  <tbody>\n",
       "    <tr>\n",
       "      <th>0</th>\n",
       "      <td>16.0</td>\n",
       "      <td>0.0</td>\n",
       "      <td>[101, 10]</td>\n",
       "      <td>0.0</td>\n",
       "      <td>1.0</td>\n",
       "      <td>5.0</td>\n",
       "      <td>4.0</td>\n",
       "      <td>47.0</td>\n",
       "      <td>[HAS, YOUR, MORTGAGE, SEARCH, GOT, YOU, DOWN, ...</td>\n",
       "    </tr>\n",
       "  </tbody>\n",
       "</table>\n",
       "</div>"
      ],
      "text/plain": [
       "   html  url content_attr  > count  price  ? or !  Number count  \\\n",
       "0  16.0  0.0    [101, 10]      0.0    1.0     5.0           4.0   \n",
       "\n",
       "   Majuscule count                                          all words  \n",
       "0             47.0  [HAS, YOUR, MORTGAGE, SEARCH, GOT, YOU, DOWN, ...  "
      ]
     },
     "execution_count": 338,
     "metadata": {},
     "output_type": "execute_result"
    }
   ],
   "source": [
    "content_dataframe"
   ]
  },
  {
   "cell_type": "code",
   "execution_count": 309,
   "metadata": {},
   "outputs": [
    {
     "data": {
      "text/html": [
       "<div>\n",
       "<style scoped>\n",
       "    .dataframe tbody tr th:only-of-type {\n",
       "        vertical-align: middle;\n",
       "    }\n",
       "\n",
       "    .dataframe tbody tr th {\n",
       "        vertical-align: top;\n",
       "    }\n",
       "\n",
       "    .dataframe thead th {\n",
       "        text-align: right;\n",
       "    }\n",
       "</style>\n",
       "<table border=\"1\" class=\"dataframe\">\n",
       "  <thead>\n",
       "    <tr style=\"text-align: right;\">\n",
       "      <th></th>\n",
       "      <th>from</th>\n",
       "      <th>subject</th>\n",
       "      <th>date</th>\n",
       "      <th>content-type</th>\n",
       "      <th>importance</th>\n",
       "      <th>x-spam</th>\n",
       "      <th>x-*</th>\n",
       "      <th>html</th>\n",
       "      <th>url</th>\n",
       "      <th>&gt; in start of line</th>\n",
       "      <th>price</th>\n",
       "      <th>? or !</th>\n",
       "      <th>Number count</th>\n",
       "      <th>Majuscule count</th>\n",
       "      <th>all words</th>\n",
       "    </tr>\n",
       "  </thead>\n",
       "  <tbody>\n",
       "    <tr>\n",
       "      <th>0</th>\n",
       "      <td>[17, 13, yahoo, com]</td>\n",
       "      <td>[38, 4, 0, 1]</td>\n",
       "      <td>3.0</td>\n",
       "      <td>NaN</td>\n",
       "      <td>NaN</td>\n",
       "      <td>NaN</td>\n",
       "      <td>2.0</td>\n",
       "      <td>16.0</td>\n",
       "      <td>0.0</td>\n",
       "      <td>0.0</td>\n",
       "      <td>1.0</td>\n",
       "      <td>5.0</td>\n",
       "      <td>4.0</td>\n",
       "      <td>47.0</td>\n",
       "      <td>[HAS, YOUR, MORTGAGE, SEARCH, GOT, YOU, DOWN, ...</td>\n",
       "    </tr>\n",
       "  </tbody>\n",
       "</table>\n",
       "</div>"
      ],
      "text/plain": [
       "                   from        subject  date  content-type  importance  \\\n",
       "0  [17, 13, yahoo, com]  [38, 4, 0, 1]   3.0           NaN         NaN   \n",
       "\n",
       "   x-spam  x-*  html  url  > in start of line  price  ? or !  Number count  \\\n",
       "0     NaN  2.0  16.0  0.0                 0.0    1.0     5.0           4.0   \n",
       "\n",
       "   Majuscule count                                          all words  \n",
       "0             47.0  [HAS, YOUR, MORTGAGE, SEARCH, GOT, YOU, DOWN, ...  "
      ]
     },
     "execution_count": 309,
     "metadata": {},
     "output_type": "execute_result"
    }
   ],
   "source": [
    "mail_dataframe = pd.concat([heading_dataframe, content_dataframe], axis=1)\n",
    "mail_dataframe"
   ]
  }
 ],
 "metadata": {
  "kernelspec": {
   "display_name": "ml_env",
   "language": "python",
   "name": "ml_env"
  },
  "language_info": {
   "codemirror_mode": {
    "name": "ipython",
    "version": 3
   },
   "file_extension": ".py",
   "mimetype": "text/x-python",
   "name": "python",
   "nbconvert_exporter": "python",
   "pygments_lexer": "ipython3",
   "version": "3.8.5"
  }
 },
 "nbformat": 4,
 "nbformat_minor": 4
}
